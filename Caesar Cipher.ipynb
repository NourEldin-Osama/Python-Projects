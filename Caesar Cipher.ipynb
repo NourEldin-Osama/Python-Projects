{
 "cells": [
  {
   "cell_type": "code",
   "execution_count": 1,
   "metadata": {
    "collapsed": true
   },
   "outputs": [],
   "source": [
    "message = input(\"Enter a PlainText to encipher it using Caesar cipher: \").strip().lower()\n",
    "key = int(input(\"Enter the Key: \"))"
   ]
  },
  {
   "cell_type": "code",
   "execution_count": 2,
   "outputs": [],
   "source": [
    "# cipher_text = \"\"\n",
    "# for char in message:\n",
    "#     char = ord(char) - 97\n",
    "#     cipher_text += chr(((char + key) % 26) + 97)"
   ],
   "metadata": {
    "collapsed": false,
    "pycharm": {
     "name": "#%%\n"
    }
   }
  },
  {
   "cell_type": "code",
   "execution_count": 3,
   "outputs": [],
   "source": [
    "cipher_text = \"\".join([chr(((ord(char) - 97 + key) % 26) + 97) if char != \" \" else \" \" for char in message])"
   ],
   "metadata": {
    "collapsed": false,
    "pycharm": {
     "name": "#%%\n"
    }
   }
  },
  {
   "cell_type": "code",
   "execution_count": 4,
   "outputs": [
    {
     "name": "stdout",
     "output_type": "stream",
     "text": [
      "PlainText noureldin osama saad\n",
      "CipherText: pqwtgnfkp qucoc uccf\n"
     ]
    }
   ],
   "source": [
    "print(\"PlainText\", message)\n",
    "print(\"CipherText: \" + cipher_text)"
   ],
   "metadata": {
    "collapsed": false,
    "pycharm": {
     "name": "#%%\n"
    }
   }
  }
 ],
 "metadata": {
  "kernelspec": {
   "display_name": "Python 3",
   "language": "python",
   "name": "python3"
  },
  "language_info": {
   "codemirror_mode": {
    "name": "ipython",
    "version": 2
   },
   "file_extension": ".py",
   "mimetype": "text/x-python",
   "name": "python",
   "nbconvert_exporter": "python",
   "pygments_lexer": "ipython2",
   "version": "2.7.6"
  }
 },
 "nbformat": 4,
 "nbformat_minor": 0
}