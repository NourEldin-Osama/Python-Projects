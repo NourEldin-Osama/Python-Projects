{
 "cells": [
  {
   "cell_type": "code",
   "execution_count": 1,
   "metadata": {
    "collapsed": true
   },
   "outputs": [],
   "source": [
    "import csv\n",
    "import string\n",
    "\n",
    "import pandas as pd"
   ]
  },
  {
   "cell_type": "markdown",
   "source": [
    "#### the Characters we will use 'abcdefghijklmnopqrstuvwxyz '"
   ],
   "metadata": {
    "collapsed": false
   }
  },
  {
   "cell_type": "code",
   "execution_count": 2,
   "outputs": [],
   "source": [
    "# chars = string.ascii_letters + \" \" + string.digits\n",
    "chars = string.ascii_lowercase + \" \""
   ],
   "metadata": {
    "collapsed": false,
    "pycharm": {
     "name": "#%%\n"
    }
   }
  },
  {
   "cell_type": "markdown",
   "source": [
    "#### Create the Vigenere table"
   ],
   "metadata": {
    "collapsed": false
   }
  },
  {
   "cell_type": "code",
   "execution_count": 3,
   "outputs": [],
   "source": [
    "with open(\"Vigenere table.csv\", \"w\") as file:\n",
    "    file.write(\",\".join([\"index\"] + list(chars)) + \"\\n\")\n",
    "    for i in range(len(chars)):\n",
    "        file.write(\",\".join([chars[i]] + list(chars[i:] + chars[:i])))\n",
    "        file.write(\"\\n\")"
   ],
   "metadata": {
    "collapsed": false,
    "pycharm": {
     "name": "#%%\n"
    }
   }
  },
  {
   "cell_type": "markdown",
   "source": [
    "#### Read the Vigenere table"
   ],
   "metadata": {
    "collapsed": false
   }
  },
  {
   "cell_type": "code",
   "execution_count": 4,
   "outputs": [],
   "source": [
    "table = pd.read_csv(\"Vigenere table.csv\", index_col=[\"index\"], on_bad_lines='skip', quoting=csv.QUOTE_NONE)"
   ],
   "metadata": {
    "collapsed": false,
    "pycharm": {
     "name": "#%%\n"
    }
   }
  },
  {
   "cell_type": "code",
   "execution_count": 5,
   "outputs": [],
   "source": [
    "def vigenere_cipher(plaintext, key):\n",
    "    # Check if the length of plaintext = length of key\n",
    "    if len(plaintext) != len(key):\n",
    "        raise Exception(F\"Length of the key= {len(key)} must Equal the length of plaintext= {len(plain_text)}\")\n",
    "\n",
    "    # check if there is invalid characters\n",
    "    for index in range(len(plaintext)):\n",
    "        if not (plaintext[index] in chars):\n",
    "            raise Exception(F\"There is invalid Character in the plaintext {plaintext[index]}\")\n",
    "        if not (key[index] in chars):\n",
    "            raise Exception(F\"There is invalid Character in the Key {key[index]}\")\n",
    "\n",
    "    ciphertext = \"\"\n",
    "    for index in range(len(plaintext)):\n",
    "        # use Vigenere table to encrypt the plaintext\n",
    "        ciphertext += table[plaintext[index]][key[index]]\n",
    "    return ciphertext"
   ],
   "metadata": {
    "collapsed": false,
    "pycharm": {
     "name": "#%%\n"
    }
   }
  },
  {
   "cell_type": "code",
   "execution_count": 6,
   "outputs": [],
   "source": [
    "def decrypt_vigenere(ciphertext, key):\n",
    "    plaintext = \"\"\n",
    "    for index in range(len(ciphertext)):\n",
    "        # use Vigenere table to decrypt the plaintext\n",
    "        plaintext += table.columns[list(table.loc[key[index]]).index(ciphertext[index])]\n",
    "    return plaintext"
   ],
   "metadata": {
    "collapsed": false,
    "pycharm": {
     "name": "#%%\n"
    }
   }
  },
  {
   "cell_type": "code",
   "execution_count": 7,
   "outputs": [
    {
     "name": "stdout",
     "output_type": "stream",
     "text": [
      "Length of PlainText: 9\n"
     ]
    }
   ],
   "source": [
    "plain_text = input(\"Enter PlainText: \").lower()\n",
    "print(\"Length of PlainText:\", len(plain_text))"
   ],
   "metadata": {
    "collapsed": false,
    "pycharm": {
     "name": "#%%\n"
    }
   }
  },
  {
   "cell_type": "code",
   "execution_count": 8,
   "outputs": [],
   "source": [
    "Key = input(\"Enter Key: \").lower()"
   ],
   "metadata": {
    "collapsed": false,
    "pycharm": {
     "name": "#%%\n"
    }
   }
  },
  {
   "cell_type": "code",
   "execution_count": 9,
   "outputs": [
    {
     "name": "stdout",
     "output_type": "stream",
     "text": [
      "PlainText: noureldin\n",
      "Key: noureldin\n",
      "Ciphertext:  BNHIWGQ \n",
      "PlainText: noureldin\n"
     ]
    }
   ],
   "source": [
    "print(\"PlainText:\", plain_text)\n",
    "print(\"Key:\", Key)\n",
    "cipher_text = vigenere_cipher(plain_text, Key)\n",
    "print(\"Ciphertext:\", cipher_text.upper())\n",
    "print(\"PlainText:\", decrypt_vigenere(cipher_text, Key))"
   ],
   "metadata": {
    "collapsed": false,
    "pycharm": {
     "name": "#%%\n"
    }
   }
  }
 ],
 "metadata": {
  "kernelspec": {
   "display_name": "Python 3",
   "language": "python",
   "name": "python3"
  },
  "language_info": {
   "codemirror_mode": {
    "name": "ipython",
    "version": 2
   },
   "file_extension": ".py",
   "mimetype": "text/x-python",
   "name": "python",
   "nbconvert_exporter": "python",
   "pygments_lexer": "ipython2",
   "version": "2.7.6"
  }
 },
 "nbformat": 4,
 "nbformat_minor": 0
}