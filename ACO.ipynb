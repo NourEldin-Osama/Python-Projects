{
  "cells": [
    {
      "cell_type": "markdown",
      "metadata": {
        "id": "view-in-github",
        "colab_type": "text"
      },
      "source": [
        "<a href=\"https://colab.research.google.com/github/NourEldin-Osama/Python-Projects/blob/main/ACO.ipynb\" target=\"_parent\"><img src=\"https://colab.research.google.com/assets/colab-badge.svg\" alt=\"Open In Colab\"/></a>"
      ]
    },
    {
      "cell_type": "code",
      "execution_count": null,
      "metadata": {
        "collapsed": true,
        "id": "WQJEoMd0ax9s"
      },
      "outputs": [],
      "source": [
        "# implement Ant Colony Optimization\n",
        "from itertools import accumulate\n",
        "from random import random"
      ]
    },
    {
      "cell_type": "code",
      "execution_count": null,
      "outputs": [],
      "source": [
        "# initialize parameters\n",
        "num_iterations = 2\n",
        "lower_bound, upper_bound = 0, 3\n",
        "num_ants = 4\n",
        "step_size = 0.5\n",
        "pheromone = 1\n",
        "scaling_factor = 2\n",
        "evoporation_rate = 0.5"
      ],
      "metadata": {
        "id": "9WHO-fbQax9w"
      }
    },
    {
      "cell_type": "code",
      "execution_count": null,
      "outputs": [],
      "source": [
        "# generate range of values\n",
        "def generate_range(lower_bound, upper_bound, step_size):\n",
        "    x = []\n",
        "    while lower_bound <= upper_bound:\n",
        "        x.append(lower_bound)\n",
        "        lower_bound += step_size\n",
        "    return x\n",
        "\n",
        "# get the index of the first value greater than r\n",
        "def get_x_index(r, cumulative_probabilities):\n",
        "    for i in range(len(cumulative_probabilities)):\n",
        "        if cumulative_probabilities[i] > r:\n",
        "            return i\n",
        "\n",
        "def updated_pheromone(old_pheromone):\n",
        "    return (1-evoporation_rate)*old_pheromone"
      ],
      "metadata": {
        "id": "Y00XoHGxax9x"
      }
    },
    {
      "cell_type": "code",
      "execution_count": null,
      "outputs": [],
      "source": [
        "def objective_function(x):\n",
        "    return x**2-2*x-11"
      ],
      "metadata": {
        "id": "HJEUJ9PYax9x"
      }
    },
    {
      "cell_type": "code",
      "execution_count": null,
      "outputs": [
        {
          "name": "stdout",
          "output_type": "stream",
          "text": [
            "xs = [0, 0.5, 1.0, 1.5, 2.0, 2.5, 3.0] m = 7\n",
            "iteration 1\n",
            "pheromones = [1, 1, 1, 1, 1, 1, 1] sum_pheromones = 7\n",
            "probabilities = [0.14285714285714285, 0.14285714285714285, 0.14285714285714285, 0.14285714285714285, 0.14285714285714285, 0.14285714285714285, 0.14285714285714285]\n",
            "cumulative_probabilities = [0.1429, 0.2857, 0.4286, 0.5714, 0.7143, 0.8571, 1.0]\n",
            "rs = [0.23514723223306744, 0.8654972830494817, 0.1978247283340029, 0.177214051026944]\n",
            "rs_xs = [1, 6, 1, 1]\n",
            "results = [-11.75, -8.0, -11.75, -11.75]\n",
            "best_result = -11.75 best_x = 1 worst_result = -8.0\n",
            "pheromones = [0.5, 3.9375, 0.5, 0.5, 0.5, 0.5, 0.5]\n",
            "best_result = -11.75\n",
            "Best value of x = 0.5\n",
            "\n",
            "iteration 2\n",
            "pheromones = [0.5, 3.9375, 0.5, 0.5, 0.5, 0.5, 0.5] sum_pheromones = 6.9375\n",
            "probabilities = [0.07207207207207207, 0.5675675675675675, 0.07207207207207207, 0.07207207207207207, 0.07207207207207207, 0.07207207207207207, 0.07207207207207207]\n",
            "cumulative_probabilities = [0.0721, 0.6396, 0.7117, 0.7838, 0.8559, 0.9279, 1.0]\n",
            "rs = [0.17159489750146317, 0.6952309755698584, 0.9888357771053484, 0.06334674200397594]\n",
            "rs_xs = [1, 2, 6, 0]\n",
            "results = [-11.75, -12.0, -8.0, -11]\n",
            "best_result = -12.0 best_x = 2 worst_result = -8.0\n",
            "pheromones = [0.25, 1.96875, 3.5, 0.25, 0.25, 0.25, 0.25]\n",
            "best_result = -12.0\n",
            "Best value of x = 1.0\n",
            "\n"
          ]
        }
      ],
      "source": [
        "xs = generate_range(lower_bound, upper_bound, step_size)\n",
        "m = len(xs)\n",
        "print(f\"{xs = }\", f\"{m = }\")\n",
        "# generate an initial pheromone list\n",
        "pheromones = [pheromone for i in range(m)]\n",
        "for iteration in range(num_iterations):\n",
        "    print(f\"iteration {iteration + 1}\")\n",
        "    sum_pheromones = sum(pheromones)\n",
        "    print(f\"{pheromones = }\", f\"{sum_pheromones = }\")\n",
        "    probabilities = [pheromones[i]/sum_pheromones for i in range(m)]\n",
        "    print(f\"{probabilities = }\")\n",
        "    cumulative_probabilities = list(accumulate(probabilities))\n",
        "    cumulative_probabilities = [round(value,4) for value in cumulative_probabilities]\n",
        "    print(f\"{cumulative_probabilities = }\")\n",
        "    # generate random numbers\n",
        "    rs = [random() for i in range(num_ants)]\n",
        "    print(f\"{rs = }\")\n",
        "    rs_xs = [get_x_index(r, cumulative_probabilities) for r in rs]\n",
        "    print(f\"{rs_xs = }\")\n",
        "    results = [objective_function(xs[x]) for x in rs_xs]\n",
        "    print(f\"{results = }\")\n",
        "\n",
        "    # get the best result, and the best x, the worst result\n",
        "    # minimize the objective function\n",
        "    best_result = min(results)\n",
        "    best_x = rs_xs[results.index(best_result)]\n",
        "    worst_result = max(results)\n",
        "    print(f\"{best_result = }\", f\"{best_x = }\", f\"{worst_result = }\")\n",
        "\n",
        "    # update the best pheromone\n",
        "    pheromones[best_x] = pheromones[best_x] + scaling_factor*(best_result/worst_result)\n",
        "\n",
        "    # update other pheromones\n",
        "    pheromones[:best_x] = [updated_pheromone(worst_pheromone) for worst_pheromone in pheromones[:best_x]]\n",
        "    pheromones[best_x+1:] = [updated_pheromone(worst_pheromone) for worst_pheromone in pheromones[best_x+1:]]\n",
        "    print(f\"{pheromones = }\")\n",
        "\n",
        "    print(f\"{best_result = }\")\n",
        "    print(f\"Best value of x = {xs[best_x]}\")\n",
        "    print()"
      ],
      "metadata": {
        "id": "Q0jzHErkax9x",
        "outputId": "8439520b-42a9-4cc5-8644-54fd842a3983"
      }
    }
  ],
  "metadata": {
    "kernelspec": {
      "display_name": "Python 3",
      "language": "python",
      "name": "python3"
    },
    "language_info": {
      "codemirror_mode": {
        "name": "ipython",
        "version": 2
      },
      "file_extension": ".py",
      "mimetype": "text/x-python",
      "name": "python",
      "nbconvert_exporter": "python",
      "pygments_lexer": "ipython2",
      "version": "2.7.6"
    },
    "colab": {
      "provenance": [],
      "include_colab_link": true
    }
  },
  "nbformat": 4,
  "nbformat_minor": 0
}